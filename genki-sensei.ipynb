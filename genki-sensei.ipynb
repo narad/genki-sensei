{
 "cells": [
  {
   "cell_type": "code",
   "execution_count": 1,
   "metadata": {},
   "outputs": [
    {
     "name": "stdout",
     "output_type": "stream",
     "text": [
      "[NbConvertApp] Converting notebook genki-sensei.ipynb to script\n",
      "[NbConvertApp] Writing 11741 bytes to genki-sensei.py\n"
     ]
    }
   ],
   "source": [
    "# Magics\n",
    "try:\n",
    "    %load_ext autoreload\n",
    "    %autoreload 2\n",
    "    ! jupyter nbconvert --to script genki-sensei.ipynb\n",
    "    IS_NOTEBOOK=True\n",
    "except:\n",
    "    IS_NOTEBOOK=False   \n",
    "show_html = IS_NOTEBOOK"
   ]
  },
  {
   "cell_type": "code",
   "execution_count": 2,
   "metadata": {},
   "outputs": [],
   "source": [
    "from wk.wanikani import WaniKani\n",
    "from wk.quizzer import ask_question, choose_kanji\n",
    "from wk.history import AnswerHistory"
   ]
  },
  {
   "cell_type": "code",
   "execution_count": 6,
   "metadata": {},
   "outputs": [],
   "source": [
    "max_level = 3"
   ]
  },
  {
   "cell_type": "code",
   "execution_count": 7,
   "metadata": {},
   "outputs": [
    {
     "name": "stdout",
     "output_type": "stream",
     "text": [
      "Cache ./cache/kanji_pickle.txt exists; loading...\n",
      "Cache ./cache/vocab_pickle.txt exists; loading...\n",
      "Loaded 2074 kanji\n",
      "Loaded 6528 vocab\n",
      "Cache exist; should load\n"
     ]
    }
   ],
   "source": [
    "# Initialize kanji knowledge\n",
    "wk = WaniKani(force_rebuild=False)\n",
    "wk.set_max_level(max_level)\n",
    "print(f\"Loaded {len(wk.get_kanjis())} kanji\")\n",
    "print(f\"Loaded {len(wk.vocab)} vocab\")\n",
    "\n",
    "# Initialize user history\n",
    "history = AnswerHistory()"
   ]
  },
  {
   "cell_type": "code",
   "execution_count": 8,
   "metadata": {},
   "outputs": [],
   "source": [
    "from wk.conjugate import te_form\n",
    "\n",
    "# for v in wk.vocab.values():\n",
    "#     try:\n",
    "#         tf = te_form(v)\n",
    "#         print(tf)\n",
    "#         print(v.word_types)\n",
    "#     except:\n",
    "#         pass"
   ]
  },
  {
   "cell_type": "code",
   "execution_count": 9,
   "metadata": {},
   "outputs": [],
   "source": [
    "#lkanjis = wk.get_kanjis_by_max_level(max_level)\n",
    "# for k in lkanjis:\n",
    "#     print(k)"
   ]
  },
  {
   "cell_type": "markdown",
   "metadata": {},
   "source": [
    "### Select the Type of Review Questions"
   ]
  },
  {
   "cell_type": "code",
   "execution_count": 10,
   "metadata": {},
   "outputs": [
    {
     "name": "stdin",
     "output_type": "stream",
     "text": [
      "Select Review Mode:\n",
      "  1) Kanji Similarity \n",
      "  2) Radical Decomposition \n",
      "  3) Pronunciation \n",
      "  4) Kanji -> Meaning \n",
      "  5) Meaning -> Kanji \n",
      "  6) Usage Pattern Understanding \n",
      "  7) Conjugation \n",
      "  8) Mixed \n",
      "\n",
      " 7\n"
     ]
    },
    {
     "name": "stdout",
     "output_type": "stream",
     "text": [
      "Conjugation\n"
     ]
    }
   ],
   "source": [
    "from wk.mode import Mode, all_modes\n",
    "\n",
    "modes = all_modes + [Mode('mixed', \"Mixed\")]\n",
    "def select_mode(dislay_ASCII):\n",
    "    select_str = \"Select Review Mode:\\n\" + \\\n",
    "                 \"\\n\".join([f\"  {i+1}) {modes[i].pretty_str} \" for i in range(len(modes))]) + \"\\n\\n\" \n",
    "    midx = int(input(select_str))\n",
    "    assert midx > 0 and midx <= len(modes)+1, \"Choice is out of range.\"\n",
    "    return modes[midx-1]\n",
    "    \n",
    "mode = select_mode(IS_NOTEBOOK)\n",
    "print(mode)\n",
    "\n",
    "# Remove the mixed mode from mode list\n",
    "modes = modes[:-1]"
   ]
  },
  {
   "cell_type": "code",
   "execution_count": 11,
   "metadata": {},
   "outputs": [],
   "source": [
    "# Setup question mix (follow-up)\n",
    "\n",
    "question_type_distribution = {modes[i].name: 0 for i in range(len(modes)-1)}\n",
    "#print(question_type_distribution)\n",
    "if mode.name == \"mixed\":\n",
    "    for q in question_type_distribution.keys():\n",
    "        question_type_distribution[q] = 1.0 / (len(modes)-1)\n",
    "else:\n",
    "    question_type_distribution[mode.name] = 1.0\n",
    "\n",
    "# print(\"test:\")\n",
    "# print(question_type_distribution)\n",
    "\n",
    "qpairs = list(question_type_distribution.items())\n",
    "qtypes   = [q for q,_ in qpairs]\n",
    "qweights = [w for _,w in qpairs]\n"
   ]
  },
  {
   "cell_type": "code",
   "execution_count": 12,
   "metadata": {},
   "outputs": [],
   "source": [
    "from IPython.display import HTML\n",
    "\n",
    "def html_popup(inner_html):\n",
    "    s  = '<script type=\"text/Javascript\">'\n",
    "    s += 'var win = window.open(\"\", \"Title\", \"toolbar=no, location=no, directories=no, status=no, menubar=no, scrollbars=yes, resizable=yes, width=780, height=200, top=\"+(screen.height-400)+\", left=\"+(screen.width-840));'\n",
    "    s += 'win.document.body.innerHTML = \\'' + inner_html.replace(\"\\n\",'\\\\') + '\\';'\n",
    "    s += '</script>'\n",
    "    display(HTML(s))\n",
    "\n",
    "# Show in new Window\n",
    "#html_popup(\"Hello\")"
   ]
  },
  {
   "cell_type": "code",
   "execution_count": null,
   "metadata": {},
   "outputs": [
    {
     "data": {
      "text/html": [
       "<div style=\"background-color:#111111;width:500px;height:50px;border:1px solid #000;\"><b>What is the -te form of <span style=\"color: yellow; font-size:150% \">映る</span>?</b></br></div>"
      ],
      "text/plain": [
       "<IPython.core.display.HTML object>"
      ]
     },
     "metadata": {},
     "output_type": "display_data"
    }
   ],
   "source": [
    "### Quiz Cell ###\n",
    "from IPython.display import clear_output\n",
    "import time\n",
    "import random\n",
    "from sounds import play_correct, play_incorrect\n",
    "from IPython.display import display, HTML\n",
    "\n",
    "i = 0\n",
    "correct = 0\n",
    "\n",
    "while True:\n",
    "    qtype = random.choices(qtypes,\n",
    "                           weights=qweights,\n",
    "                           k=1)[0]\n",
    "    print(type(qtype))\n",
    "    clear_output(wait=True)\n",
    "    k = choose_kanji(qtype, \n",
    "                     wk)\n",
    "\n",
    "#    print(f\"{i+1}) \", end=\"\")\n",
    "    is_correct, feedback = ask_question(k, qtype, wk, idx=i+1, show_html=show_html)\n",
    "    if is_correct:\n",
    "#        print()\n",
    "        print(\"Correct!\")\n",
    "        play_correct()\n",
    "        correct += 1\n",
    "    else:\n",
    "        play_incorrect()\n",
    "        if show_html:\n",
    "#            print()\n",
    "            display(HTML(f\"Incorrect.<p>{feedback}\"))\n",
    "        \n",
    "    # Update the user's progress history\n",
    "    history.update(k, qtype, is_correct)\n",
    "\n",
    "    # Wait for user to react to answer\n",
    "    confirm = input()\n",
    "\n",
    "    \n",
    "    i += 1\n",
    "\n",
    "print(f\"\\nScore: {correct}/{num_questions}\")"
   ]
  },
  {
   "cell_type": "code",
   "execution_count": null,
   "metadata": {},
   "outputs": [],
   "source": [
    "k.meanings"
   ]
  },
  {
   "cell_type": "code",
   "execution_count": null,
   "metadata": {},
   "outputs": [],
   "source": [
    "def View(df):\n",
    "    css = \"\"\"<style>\n",
    "    table { border-collapse: collapse; border: 3px solid #eee; }\n",
    "    table tr th:first-child { background-color: #eeeeee; color: #333; font-weight: bold }\n",
    "    table thead th { background-color: #eee; color: #000; }\n",
    "    tr, th, td { border: 1px solid #ccc; border-width: 1px 0 0 1px; border-collapse: collapse;\n",
    "    padding: 3px; font-family: monospace; font-size: 10px }</style>\n",
    "    \"\"\"\n",
    "    s  = '<script type=\"text/Javascript\">'\n",
    "    s += 'var win = window.open(\"\", \"Title\", \"toolbar=no, location=no, directories=no, status=no, menubar=no, scrollbars=yes, resizable=yes, width=780, height=200, top=\"+(screen.height-400)+\", left=\"+(screen.width-840));'\n",
    "    s += 'win.document.body.innerHTML = \\'' + (df + css).replace(\"\\n\",'\\\\') + '\\';'\n",
    "    s += '</script>'\n",
    "\n",
    "    return(HTML(s+css))\n",
    "\n",
    "\n",
    "content = \"hello\"\n",
    "View(content)"
   ]
  },
  {
   "cell_type": "code",
   "execution_count": null,
   "metadata": {},
   "outputs": [],
   "source": [
    "content = \"bye\"\n",
    "View(content)"
   ]
  },
  {
   "cell_type": "code",
   "execution_count": null,
   "metadata": {},
   "outputs": [],
   "source": [
    "from ipywidgets import widgets\n",
    "from IPython.display import display\n",
    "\n",
    "def on_submit(text):\n",
    "    global answer\n",
    "    answer = text.value\n",
    "    text_input.close()\n",
    "    button.close()\n",
    "\n",
    "text_input = widgets.Text(placeholder='Enter text')\n",
    "display(text_input)\n",
    "#display(button)\n",
    "\n",
    "# button = widgets.Button(description=\"Open Popup\")\n",
    "# button.on_click(on_button_click)\n",
    "\n",
    "text_input.on_submit(on_submit)\n",
    "#display(button)"
   ]
  },
  {
   "cell_type": "code",
   "execution_count": null,
   "metadata": {},
   "outputs": [],
   "source": [
    "from ipywidgets import widgets\n",
    "from IPython.display import display\n",
    "\n",
    "def on_button_click(b):\n",
    "    display(text_input)\n",
    "    display(submit_button)\n",
    "\n",
    "def on_submit(text):\n",
    "    global answer\n",
    "    answer = text.value\n",
    "    text_input.close()\n",
    "    submit_button.close()\n",
    "\n",
    "text_input = widgets.Text(placeholder='Enter text')\n",
    "button = widgets.Button(description=\"Open Popup\")\n",
    "button.on_click(on_button_click)\n",
    "display(button)\n",
    "\n",
    "submit_button = widgets.Button(description='Submit')\n",
    "submit_button.on_click(lambda b: on_submit(text_input))"
   ]
  },
  {
   "cell_type": "code",
   "execution_count": null,
   "metadata": {},
   "outputs": [],
   "source": []
  },
  {
   "cell_type": "code",
   "execution_count": null,
   "metadata": {},
   "outputs": [],
   "source": [
    "from ipywidgets import widgets\n",
    "from IPython.display import HTML, display, clear_output\n",
    "\n",
    "notify_output = widgets.Output()\n",
    "display(notify_output)"
   ]
  },
  {
   "cell_type": "code",
   "execution_count": null,
   "metadata": {},
   "outputs": [],
   "source": [
    "for v in wk.vocab.values():\n",
    "#    print([wk.kanji[key].symbol for key in v.kanjis])\n",
    "    if '思' in [wk.kanji[key].symbol for key in v.kanjis]:\n",
    "        print(v)\n",
    "#    print(v)\n",
    "#    break"
   ]
  },
  {
   "cell_type": "code",
   "execution_count": null,
   "metadata": {},
   "outputs": [],
   "source": [
    "phrase = '大切に思う'\n",
    "for v in wk.vocab.values():\n",
    "    if v.symbol in phrase:\n",
    "        print(v)"
   ]
  },
  {
   "cell_type": "code",
   "execution_count": null,
   "metadata": {},
   "outputs": [],
   "source": []
  },
  {
   "cell_type": "code",
   "execution_count": null,
   "metadata": {},
   "outputs": [],
   "source": [
    "# question_type_distribution = {\n",
    "#     'kanji_similarity': 2.5,\n",
    "#     'radical_decomposition': 0.5,\n",
    "#     'pronunciation': 0.3,\n",
    "#     'kanji_from_meaning': 0.5\n",
    "# }"
   ]
  },
  {
   "cell_type": "code",
   "execution_count": null,
   "metadata": {},
   "outputs": [],
   "source": [
    "\n",
    "#kanjis = wk.get_batch(num_questions)\n",
    "\n",
    "#for k in queue:\n",
    "# for qtype in questions:\n",
    "#     clear_output(wait=True)\n",
    "#     k = choose_kanji(qtype, \n",
    "#                      wk)\n",
    "#     print(qtype)\n",
    "#     is_correct = ask_question(k, qtype)\n",
    "#     if is_correct:\n",
    "#         print(\"Correct!\")\n",
    "#         correct += 1\n",
    "#     else:\n",
    "#         print(\"Incorrect\")\n",
    "        \n",
    "#     # Update the user's progress history\n",
    "#     history.update(k, qtype, is_correct)\n",
    "\n",
    "#     # Wait for user to react to answer\n",
    "#     confirm = input()\n",
    "\n",
    "#     time.sleep(0.2)\n",
    "#     i += 1\n"
   ]
  },
  {
   "cell_type": "code",
   "execution_count": null,
   "metadata": {},
   "outputs": [],
   "source": [
    "history.history"
   ]
  },
  {
   "cell_type": "code",
   "execution_count": null,
   "metadata": {},
   "outputs": [],
   "source": [
    "import sys\n",
    "from PyQt5.QtWidgets import QApplication, QWidget, QLabel, QInputDialog\n",
    "from PyQt5.QtGui import QIcon\n",
    "from PyQt5.QtCore import pyqtSlot\n",
    "\n",
    "def window():\n",
    "    app = QApplication(sys.argv)\n",
    "    widget = QWidget()\n",
    "\n",
    "    textLabel = QLabel(widget)\n",
    "    textLabel.setText(\"Hello World!\")\n",
    "    textLabel.move(110,85)\n",
    "\n",
    "    text, ok = QInputDialog.getText(self, 'Text Input Dialog', 'Enter your name:')\n",
    "    if ok:\n",
    "        self.le1.setText(str(text))\n",
    "\n",
    "    widget.setGeometry(50,50,320,200)\n",
    "    widget.setWindowTitle(\"PyQt5 Example\")\n",
    "    widget.show()\n",
    "    sys.exit(app.exec_())\n",
    "\n",
    "if __name__ == '__main__':\n",
    "    window()"
   ]
  },
  {
   "cell_type": "code",
   "execution_count": null,
   "metadata": {},
   "outputs": [],
   "source": [
    "from PyQt5.QtWidgets import QApplication, QWidget, QPushButton, QLineEdit, QInputDialog, QHBoxLayout\n",
    "from PyQt5.QtWidgets import QDialog, QDialogButtonBox, QFormLayout\n",
    "\n",
    "class InputDialog(QDialog):\n",
    "    def __init__(self, parent=None):\n",
    "        super().__init__(parent)\n",
    "\n",
    "        self.first = QLineEdit(self)\n",
    "#        self.second = QLineEdit(self)\n",
    "        buttonBox = QDialogButtonBox(QDialogButtonBox.Ok | QDialogButtonBox.Cancel, self);\n",
    "\n",
    "        layout = QFormLayout(self)\n",
    "        layout.addRow(\"First text\", self.first)\n",
    "#        layout.addRow(\"Second text\", self.second)\n",
    "        layout.addWidget(buttonBox)\n",
    "\n",
    "        buttonBox.accepted.connect(self.accept)\n",
    "        buttonBox.rejected.connect(self.reject)\n",
    "\n",
    "    def getInputs(self):\n",
    "        return self.first.text() #, self.second.text())\n",
    "\n",
    "\n",
    "import sys\n",
    "app = QApplication(sys.argv)\n",
    "dialog = InputDialog()\n",
    "if dialog.exec():\n",
    "    print(dialog.getInputs())\n",
    "#exit(0)"
   ]
  },
  {
   "cell_type": "code",
   "execution_count": null,
   "metadata": {},
   "outputs": [],
   "source": [
    "# importing the required libraries \n",
    "  \n",
    "from PyQt5.QtWidgets import * \n",
    "from PyQt5 import QtCore \n",
    "from PyQt5.QtGui import * \n",
    "import sys \n",
    "  \n",
    "class Window(QMainWindow): \n",
    "    def __init__(self): \n",
    "        super().__init__() \n",
    "  \n",
    "        # informations \n",
    "        info = \"info\"\n",
    "        new_info = \"new info \"\n",
    "  \n",
    "        # set the title \n",
    "        self.setWindowTitle(\"Label\") \n",
    "  \n",
    "        # setting  the geometry of window \n",
    "        self.setGeometry(0, 0, 400, 300) \n",
    "  \n",
    "        # creating a label widget \n",
    "        self.label_1 = QLabel(info, self) \n",
    "  \n",
    "        # moving position \n",
    "        self.label_1.move(100, 100) \n",
    "  \n",
    "        # setting up border \n",
    "        self.label_1.setStyleSheet(\"border: 1px solid black;\") \n",
    "  \n",
    "        # creating a label widget \n",
    "        self.label_2 = QLabel(info, self) \n",
    "  \n",
    "        # moving position \n",
    "        self.label_2.move(100, 150) \n",
    "  \n",
    "        # setting up border \n",
    "        self.label_2.setStyleSheet(\"border: 1px solid black;\") \n",
    "  \n",
    "        # changing the text of label \n",
    "        self.label_2.setText(new_info) \n",
    "  \n",
    "        # show all the widgets \n",
    "        self.show() \n",
    "  \n",
    "  \n",
    "# create pyqt5 app \n",
    "App = QApplication(sys.argv) \n",
    "  \n",
    "# create the instance of our Window \n",
    "window = Window() \n",
    "  \n",
    "# start the app \n",
    "sys.exit(App.exec()) "
   ]
  },
  {
   "cell_type": "code",
   "execution_count": null,
   "metadata": {},
   "outputs": [],
   "source": [
    "import sys\n",
    "from PyQt5.QtCore import pyqtSignal, QDate\n",
    "from PyQt5.QtGui import QFont\n",
    "from PyQt5.QtWidgets import QApplication, QMainWindow, QPushButton, QLineEdit\n",
    "from cal_window import UiCalWindow\n",
    "\n",
    "\n",
    "class CalendarWindow(QMainWindow, UiCalWindow):\n",
    "    def __init__(self, parent=None):\n",
    "        super(CalendarWindow, self).__init__(parent)\n",
    "        self.setupUi(self)\n",
    "\n",
    "\n",
    "class MainWindow(QMainWindow):\n",
    "    def __init__(self, *args, **kwargs):\n",
    "        super(MainWindow, self).__init__(*args, **kwargs)\n",
    "\n",
    "        self.setWindowTitle(\"My App\")\n",
    "        self.setGeometry(50, 50, 800, 600)\n",
    "\n",
    "        self.label = QLineEdit(self)\n",
    "        self.label.setFont(QFont(\"Arial\", 20))\n",
    "        self.label.setReadOnly(True)\n",
    "\n",
    "        self.setCentralWidget(self.label)\n",
    "\n",
    "        self.btn = QPushButton(\"open calender\", self)\n",
    "        self.btn.move(50, 50)\n",
    "\n",
    "        self.cal = CalendarWindow()\n",
    "        self.cal.calendarWidget.clicked.connect(self.handle_date_clicked)\n",
    "        self.btn.clicked.connect(self.cal.show)\n",
    "\n",
    "    def handle_date_clicked(self, date):\n",
    "        self.label.setText(date.toString(\"yyyy-MM-dd\"))\n",
    "\n",
    "\n",
    "app = QApplication(sys.argv)\n",
    "\n",
    "window = MainWindow()\n",
    "window.show()\n",
    "\n",
    "app.exec_()"
   ]
  },
  {
   "cell_type": "code",
   "execution_count": null,
   "metadata": {},
   "outputs": [],
   "source": []
  },
  {
   "cell_type": "code",
   "execution_count": null,
   "metadata": {},
   "outputs": [],
   "source": [
    "# k = wk.get_item('上')\n",
    "# print(k)\n",
    "# print(k.radicals)\n",
    "# print(k.readings)\n",
    "# print(k.meaning)\n",
    "# print(k.onyomi())\n",
    "# print(k.level)\n"
   ]
  },
  {
   "cell_type": "code",
   "execution_count": null,
   "metadata": {},
   "outputs": [],
   "source": [
    "# # Initialize History\n",
    "# import sqlite3\n",
    "# db_filename = \"db/history.db\"\n",
    "# # Connect to DB \n",
    "# conn = sqlite3.connect(db_filename, isolation_level=None, check_same_thread=False)\n",
    "# conn.execute('''''CREATE TABLE Kanjis \n",
    "#        (ID INT PRIMARY KEY     NOT NULL, \n",
    "#        NAME           TEXT    NOT NULL, \n",
    "#        AGE            INT     NOT NULL, \n",
    "#        ADDRESS        CHAR(50), \n",
    "#        SALARY         REAL);''')  \n",
    "\n",
    "\n",
    "# # Add columns\n",
    "# columns = [\n",
    "#   ('id', 'varchar(32)'),\n",
    "#   ()\n",
    "# ]\n",
    "\n",
    "# # Print Status\n",
    "# cursor = conn.cursor()    \n",
    "\n",
    "# def update_db(kanji, mode, correct):\n",
    "#     cursor.execute(f\"UPDATE listings SET sold = True WHERE id = {res['id']};\")\n"
   ]
  }
 ],
 "metadata": {
  "kernelspec": {
   "display_name": "Python 3 (ipykernel)",
   "language": "python",
   "name": "python3"
  },
  "language_info": {
   "codemirror_mode": {
    "name": "ipython",
    "version": 3
   },
   "file_extension": ".py",
   "mimetype": "text/x-python",
   "name": "python",
   "nbconvert_exporter": "python",
   "pygments_lexer": "ipython3",
   "version": "3.9.7"
  }
 },
 "nbformat": 4,
 "nbformat_minor": 4
}
